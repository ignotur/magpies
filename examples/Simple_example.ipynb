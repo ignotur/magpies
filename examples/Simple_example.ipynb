{
 "cells": [
  {
   "cell_type": "code",
   "execution_count": 1,
   "id": "350c753f",
   "metadata": {},
   "outputs": [
    {
     "name": "stderr",
     "output_type": "stream",
     "text": [
      "/opt/anaconda3/lib/python3.8/site-packages/scipy/__init__.py:138: UserWarning: A NumPy version >=1.16.5 and <1.23.0 is required for this version of SciPy (detected version 1.16.1)\n",
      "  warnings.warn(f\"A NumPy version >={np_minversion} and <{np_maxversion} is required for this version of \"\n"
     ]
    }
   ],
   "source": [
    "import sys\n",
    "sys.path.insert(1, '../src/magpies/')\n",
    "from magpies import *\n",
    "from atmos import *\n",
    "import numpy as np\n",
    "from math import *\n",
    "import matplotlib.pyplot as plt"
   ]
  },
  {
   "cell_type": "code",
   "execution_count": 2,
   "id": "d5590103",
   "metadata": {},
   "outputs": [],
   "source": [
    "# Radius and mass of neutron star\n",
    "Rns = 12  ## km\n",
    "Mns = 1.4 ## M_solar\n",
    "Tb = pow(10, 7.1730)  ## K\n",
    "Bp = 1e11 ## G"
   ]
  },
  {
   "cell_type": "code",
   "execution_count": 3,
   "id": "09d46a74",
   "metadata": {},
   "outputs": [
    {
     "name": "stdout",
     "output_type": "stream",
     "text": [
      "Surface temperatures for magnetised envelope of NS\n",
      "Following fit from Potekhin, Yakovlev, Chabrier & Gnedin (2003) for iron envelope\n",
      "The Astrophysical Journal, Volume 594, Issue 1, pp. 404-418  2003ApJ...594..404P\n",
      "Same fits are provided in Beznogov, Potekhin & Yakovlev (2021) for iron envelope\n",
      "Physics Reports, Volume 919, p. 1-68 2021PhR...919....1B\n"
     ]
    }
   ],
   "source": [
    "g14c = g14 (Rns, Mns) ## computing the free fall acceleration\n",
    "atm_iron_2003 = NS_atmosphere ('Potekhin_2003_iron', g14c, Tb, Bp)\n",
    "atm_iron_2003.describe ()"
   ]
  },
  {
   "cell_type": "code",
   "execution_count": 4,
   "id": "3b2fe21b",
   "metadata": {},
   "outputs": [],
   "source": [
    "Tm = Tmap (usage='NS_atm', ns_atm=atm_iron_2003)"
   ]
  },
  {
   "cell_type": "code",
   "execution_count": 5,
   "id": "6b9f81e2",
   "metadata": {},
   "outputs": [
    {
     "data": {
      "image/png": "[encoded data removed]",
      "text/plain": [
       "<Figure size 432x288 with 1 Axes>"
      ]
     },
     "metadata": {
      "needs_background": "light"
     },
     "output_type": "display_data"
    }
   ],
   "source": [
    "Tm.plot_Ts()\n"
   ]
  },
  {
   "cell_type": "code",
   "execution_count": 7,
   "id": "ba6f871a",
   "metadata": {},
   "outputs": [
    {
     "name": "stdout",
     "output_type": "stream",
     "text": [
      "L =  6.656385831516438e+30  Teff =  283805.4742034619\n"
     ]
    }
   ],
   "source": [
    "L    = compute_L(Tm, Rns)\n",
    "Teff = compute_Teff(Tm, Rns)\n",
    "print ('L = ', L, ' Teff = ', Teff)"
   ]
  },
  {
   "cell_type": "code",
   "execution_count": null,
   "id": "723cecff",
   "metadata": {},
   "outputs": [],
   "source": [
    "eph, spect, visib = get_redshifted_spectra_pole_3D(theta, phi, Ts, Rns, Mns)"
   ]
  },
  {
   "cell_type": "code",
   "execution_count": null,
   "id": "4b780dec",
   "metadata": {},
   "outputs": [],
   "source": [
    "plt.plot (eph, spect)\n",
    "plt.xlabel('E (keV)')\n",
    "plt.ylabel(r'H (erg s$^{-1}$ cm$^{-2}$ keV$^{-1}$)')\n",
    "plt.xscale('log')\n",
    "plt.yscale('log')\n",
    "plt.savefig('polar_spectra.png')"
   ]
  },
  {
   "cell_type": "code",
   "execution_count": null,
   "id": "91e58b69",
   "metadata": {},
   "outputs": [],
   "source": [
    "frame = plt.subplot(111, projection='aitoff')\n",
    "bc = plt.contourf (phi-pi, -(theta-pi/2), visib.T, 40)\n",
    "frame.axes.xaxis.set_ticklabels([])\n",
    "plt.tight_layout()\n",
    "plt.savefig ('visib.png')"
   ]
  },
  {
   "cell_type": "code",
   "execution_count": null,
   "id": "4170ec45",
   "metadata": {},
   "outputs": [],
   "source": [
    "phases = np.linspace (0, 4*pi, 400)\n",
    "intens = lightcurve (theta, phi, Ts, Rns, Mns, phases, 0, pi/4)\n",
    "\n",
    "intens_rel = np.asarray(intens) / np.mean(intens) \n",
    "\n",
    "plt.plot (phases, intens_rel)\n",
    "plt.xlabel(r'$\\Phi$')\n",
    "plt.ylabel('Relative intensity')\n",
    "plt.savefig('lightcurve.png')"
   ]
  },
  {
   "cell_type": "code",
   "execution_count": null,
   "id": "10b2f558",
   "metadata": {},
   "outputs": [],
   "source": []
  }
 ],
 "metadata": {
  "kernelspec": {
   "display_name": "Python 3",
   "language": "python",
   "name": "python3"
  },
  "language_info": {
   "codemirror_mode": {
    "name": "ipython",
    "version": 3
   },
   "file_extension": ".py",
   "mimetype": "text/x-python",
   "name": "python",
   "nbconvert_exporter": "python",
   "pygments_lexer": "ipython3",
   "version": "3.8.8"
  }
 },
 "nbformat": 4,
 "nbformat_minor": 5
}
