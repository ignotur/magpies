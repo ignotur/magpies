{
 "cells": [
  {
   "cell_type": "code",
   "execution_count": 1,
   "id": "45685c9e",
   "metadata": {},
   "outputs": [
    {
     "name": "stderr",
     "output_type": "stream",
     "text": [
      "/opt/anaconda3/lib/python3.8/site-packages/scipy/__init__.py:138: UserWarning: A NumPy version >=1.16.5 and <1.23.0 is required for this version of SciPy (detected version 1.16.1)\n",
      "  warnings.warn(f\"A NumPy version >={np_minversion} and <{np_maxversion} is required for this version of \"\n"
     ]
    }
   ],
   "source": [
    "import sys\n",
    "sys.path.insert(1, '../src/magpies/')\n",
    "from magpies import *\n",
    "from atmos import *\n",
    "import numpy as np\n",
    "from math import *\n",
    "from scipy.optimize import minimize\n",
    "import matplotlib as mpl\n",
    "import matplotlib.pyplot as plt"
   ]
  },
  {
   "cell_type": "code",
   "execution_count": 2,
   "id": "46c3549c",
   "metadata": {},
   "outputs": [
    {
     "name": "stdout",
     "output_type": "stream",
     "text": [
      "g14 =  1.6054273795798544\n"
     ]
    }
   ],
   "source": [
    "## Radius and mass of neutron star\n",
    "Rns = 12  ## km\n",
    "Mns = 1.4 ## M_solar\n",
    "Tb = pow(10, 7.1730)  ## K\n",
    "Bp = 1e14 ## G\n",
    "\n",
    "g14 = g14 (Rns, Mns) ## computing the free fall acceleration\n",
    " \n",
    "print ('g14 = ', g14)"
   ]
  },
  {
   "cell_type": "code",
   "execution_count": 3,
   "id": "bd546789",
   "metadata": {},
   "outputs": [
    {
     "name": "stdout",
     "output_type": "stream",
     "text": [
      "Surface temperatures for magnetised envelope of NS\n",
      "Following fit from Potekhin, Yakovlev, Chabrier & Gnedin (2003) for iron envelope\n",
      "The Astrophysical Journal, Volume 594, Issue 1, pp. 404-418  2003ApJ...594..404P\n"
     ]
    }
   ],
   "source": [
    "## Initialising the atmosphere\n",
    "atm_iron_2003 = NS_atmosphere ('Potekhin_2003_iron', g14, Tb, Bp)\n",
    "atm_iron_2003.describe ()"
   ]
  },
  {
   "cell_type": "code",
   "execution_count": 4,
   "id": "f4b96e1f",
   "metadata": {},
   "outputs": [],
   "source": [
    "theta = np.linspace (0, pi, 100)  ## theta coordinates\n",
    "phi   = np.linspace (0, 2*pi, 99) ## phi coordinates\n",
    "\n",
    "theta1, phi1 = np.meshgrid (theta, phi)\n",
    "\n",
    "Ts = atm_iron_2003.Ts (theta1) ## Surface temperatures"
   ]
  },
  {
   "cell_type": "code",
   "execution_count": 5,
   "id": "eef8c0ea",
   "metadata": {},
   "outputs": [],
   "source": [
    "eph = np.linspace (0.25, 2.99, 275) ## Nicer soft X-ray range\n",
    "nphot = 1e6"
   ]
  },
  {
   "cell_type": "code",
   "execution_count": 6,
   "id": "dc84fc4b",
   "metadata": {},
   "outputs": [
    {
     "name": "stderr",
     "output_type": "stream",
     "text": [
      "../src/magpies/magpies.py:97: RuntimeWarning: divide by zero encountered in log\n",
      "  x = (1.0 - u)*y*(1.0 + u*u*y*y/112.0 - e/100.0*u*y*(np.log(1-y/2.0) + y/2))\n",
      "../src/magpies/magpies.py:99: RuntimeWarning: invalid value encountered in arccos\n",
      "  return np.arccos(res)\n"
     ]
    }
   ],
   "source": [
    "## Here we produce and store the soft X-ray spectra for two orientations: pole on and equatorial \n",
    "sp_red_n, map_of_visible = get_redshifted_spectra_pole_obs (theta, phi, Ts, Rns, Mns, eph, nphot)"
   ]
  },
  {
   "cell_type": "code",
   "execution_count": 7,
   "id": "4097ce25",
   "metadata": {},
   "outputs": [],
   "source": [
    "Teff = compute_Teff (theta, phi, Rns, Ts)\n",
    "bb1 = single_BB_obs (Teff, Rns, Mns, eph, nphot)\n",
    "bb2 = two_BB_obs ([0.4, 0.6, 0.9, 1.2], Teff, Rns, Mns, eph, nphot)"
   ]
  },
  {
   "cell_type": "code",
   "execution_count": 8,
   "id": "6d6dfd9f",
   "metadata": {},
   "outputs": [
    {
     "name": "stdout",
     "output_type": "stream",
     "text": [
      "999971\n"
     ]
    },
    {
     "data": {
      "image/png": "[encoded data removed]",
      "text/plain": [
       "<Figure size 432x288 with 1 Axes>"
      ]
     },
     "metadata": {
      "needs_background": "light"
     },
     "output_type": "display_data"
    }
   ],
   "source": [
    "plt.plot (np.log10(eph), sp_red_n, 'k-', label='Spectra, polar')\n",
    "plt.plot (np.log10(eph), bb1, 'r:', label='Single BB')\n",
    "plt.plot (np.log10(eph), bb2, 'b--', label='Two BB')\n",
    "plt.xlabel(r'$E$ (keV)')\n",
    "plt.ylabel('Number of photons')\n",
    "plt.yscale('log')\n",
    "\n",
    "\n",
    "print (np.sum(sp_red_n))"
   ]
  },
  {
   "cell_type": "code",
   "execution_count": 9,
   "id": "e7c26ba7",
   "metadata": {},
   "outputs": [],
   "source": [
    "diff = two_BB_diff_obs ([0.4, 0.6, 0.9, 1.2], Teff, Rns, Mns, sp_red_n, eph, nphot)"
   ]
  },
  {
   "cell_type": "code",
   "execution_count": 10,
   "id": "cabe30d5",
   "metadata": {},
   "outputs": [
    {
     "name": "stdout",
     "output_type": "stream",
     "text": [
      "40.11638862849817\n"
     ]
    }
   ],
   "source": [
    "print (diff)"
   ]
  },
  {
   "cell_type": "code",
   "execution_count": 15,
   "id": "1ae57c24",
   "metadata": {},
   "outputs": [],
   "source": [
    "x0 = [0.2, 0.6, 0.9, 1.2]\n",
    "res = minimize (two_BB_diff_obs, x0, method = 'Nelder-Mead',args=(Teff, Rns, Mns, sp_red_n, eph, nphot))"
   ]
  },
  {
   "cell_type": "code",
   "execution_count": 27,
   "id": "9251516e",
   "metadata": {},
   "outputs": [
    {
     "name": "stdout",
     "output_type": "stream",
     "text": [
      " final_simplex: (array([[0.21961584, 0.78037944, 1.05199153, 1.25655029],\n",
      "       [0.21963282, 0.78035763, 1.05195596, 1.25655994],\n",
      "       [0.21961935, 0.78038539, 1.05198438, 1.25655989],\n",
      "       [0.21962645, 0.78037006, 1.05194107, 1.25656084],\n",
      "       [0.21959634, 0.78040258, 1.05193157, 1.25656126]]), array([0.0003029 , 0.00030341, 0.00030389, 0.00030398, 0.00030605]))\n",
      "           fun: 0.0003028975651911622\n",
      "       message: 'Optimization terminated successfully.'\n",
      "          nfev: 146\n",
      "           nit: 76\n",
      "        status: 0\n",
      "       success: True\n",
      "             x: array([0.21961584, 0.78037944, 1.05199153, 1.25655029])\n",
      "1.6698198712398815\n"
     ]
    }
   ],
   "source": [
    "print (res)\n",
    "diff_par = [0,-0.03,0,0]\n",
    "bb2_opt = two_BB_obs (res.x+diff_par, Teff, Rns, Mns, eph, nphot)\n",
    "diff = two_BB_diff_obs (res.x + diff_par, Teff, Rns, Mns, sp_red_n, eph, nphot)\n",
    "print (diff)"
   ]
  },
  {
   "cell_type": "code",
   "execution_count": 28,
   "id": "7a0c07e6",
   "metadata": {},
   "outputs": [
    {
     "data": {
      "image/png": "[encoded data removed]",
      "text/plain": [
       "<Figure size 432x288 with 1 Axes>"
      ]
     },
     "metadata": {
      "needs_background": "light"
     },
     "output_type": "display_data"
    }
   ],
   "source": [
    "plt.plot (np.log10(eph), sp_red_n, 'k-', label='Spectra, polar')\n",
    "\n",
    "plt.plot (np.log10(eph), bb2_opt, 'b--', label='Two BB')\n",
    "plt.xlabel(r'$E$ (keV)')\n",
    "plt.ylabel('Number of photons')\n",
    "plt.yscale('log')"
   ]
  },
  {
   "cell_type": "code",
   "execution_count": null,
   "id": "555dde5c",
   "metadata": {},
   "outputs": [],
   "source": []
  }
 ],
 "metadata": {
  "kernelspec": {
   "display_name": "Python 3",
   "language": "python",
   "name": "python3"
  },
  "language_info": {
   "codemirror_mode": {
    "name": "ipython",
    "version": 3
   },
   "file_extension": ".py",
   "mimetype": "text/x-python",
   "name": "python",
   "nbconvert_exporter": "python",
   "pygments_lexer": "ipython3",
   "version": "3.8.8"
  }
 },
 "nbformat": 4,
 "nbformat_minor": 5
}
