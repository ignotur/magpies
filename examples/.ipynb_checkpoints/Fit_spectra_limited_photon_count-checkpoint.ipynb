{
 "cells": [
  {
   "cell_type": "code",
   "execution_count": 116,
   "id": "c254b9e4",
   "metadata": {},
   "outputs": [],
   "source": [
    "import sys\n",
    "sys.path.insert(1, '../src/magpies/')\n",
    "from magpies import *\n",
    "from atmos import *\n",
    "import numpy as np\n",
    "from math import *\n",
    "from scipy.optimize import minimize\n",
    "import matplotlib as mpl\n",
    "import matplotlib.pyplot as plt"
   ]
  },
  {
   "cell_type": "code",
   "execution_count": 117,
   "id": "a45faad1",
   "metadata": {},
   "outputs": [
    {
     "name": "stdout",
     "output_type": "stream",
     "text": [
      "g14 =  1.6054273795798544\n"
     ]
    }
   ],
   "source": [
    "## Radius and mass of neutron star\n",
    "Rns = 12  ## km\n",
    "Mns = 1.4 ## M_solar\n",
    "Tb = pow(10, 7.1730)  ## K\n",
    "Bp = 1e13 ## G\n",
    "\n",
    "## Instrument and exposure\n",
    "eph = np.linspace (0.20, 3.00, 32) ## Nicer soft X-ray range\n",
    "nphot = 1e5\n",
    "\n",
    "g14c = g14 (Rns, Mns) ## computing the free fall acceleration\n",
    " \n",
    "print ('g14 = ', g14c)"
   ]
  },
  {
   "cell_type": "code",
   "execution_count": 118,
   "id": "2de0f9a1",
   "metadata": {},
   "outputs": [
    {
     "name": "stdout",
     "output_type": "stream",
     "text": [
      "0.0903225806451613\n"
     ]
    }
   ],
   "source": [
    "delta_eph = eph[1] - eph[0]\n",
    "print (delta_eph)"
   ]
  },
  {
   "cell_type": "code",
   "execution_count": 119,
   "id": "96a44980",
   "metadata": {},
   "outputs": [
    {
     "name": "stdout",
     "output_type": "stream",
     "text": [
      "Surface temperatures for magnetised envelope of NS\n",
      "Following fit from Potekhin, Yakovlev, Chabrier & Gnedin (2003) for iron envelope\n",
      "The Astrophysical Journal, Volume 594, Issue 1, pp. 404-418  2003ApJ...594..404P\n",
      "Same fits are provided in Beznogov, Potekhin & Yakovlev (2021) for iron envelope\n",
      "Physics Reports, Volume 919, p. 1-68 2021PhR...919....1B\n"
     ]
    }
   ],
   "source": [
    "## Initialising the atmosphere\n",
    "atm_iron_2003 = NS_atmosphere ('Potekhin_2003_iron', g14c, Tb, Bp)\n",
    "atm_iron_2003.describe ()"
   ]
  },
  {
   "cell_type": "code",
   "execution_count": 120,
   "id": "d7fa1655",
   "metadata": {},
   "outputs": [
    {
     "data": {
      "text/plain": [
       "<matplotlib.image.AxesImage at 0x7ff0100b5a60>"
      ]
     },
     "execution_count": 120,
     "metadata": {},
     "output_type": "execute_result"
    },
    {
     "data": {
      "image/png": "[encoded data removed]",
      "text/plain": [
       "<Figure size 432x288 with 1 Axes>"
      ]
     },
     "metadata": {
      "needs_background": "light"
     },
     "output_type": "display_data"
    }
   ],
   "source": [
    "theta = np.linspace (0, pi, 100)  ## theta coordinates\n",
    "phi   = np.linspace (0, 2*pi, 99) ## phi coordinates\n",
    "\n",
    "theta1, phi1 = np.meshgrid (theta, phi)\n",
    "\n",
    "Ts = atm_iron_2003.Ts (theta1) ## Surface temperatures\n",
    "\n",
    "#for i in range (0, Ts.shape[0]):\n",
    "#    for j in range (0, Ts.shape[1]):\n",
    "#        Ts[i,j] = 1e6\n",
    "\n",
    "plt.imshow(Ts.T)"
   ]
  },
  {
   "cell_type": "code",
   "execution_count": 121,
   "id": "b9a768e8",
   "metadata": {},
   "outputs": [
    {
     "name": "stderr",
     "output_type": "stream",
     "text": [
      "../src/magpies/magpies.py:458: RuntimeWarning: overflow encountered in exp\n",
      "  sp_red = sp_red +  Df * 15.0 * sigma_SB / ( pow(pi, 5) * pow(kB, 4)) * np.sin(theta[j]) * np.cos(al)  * np.power(eph, 2) / (np.exp(eph / kB / Ts_inf[i,j]) - 1.0) * dtheta * dphi\n",
      "../src/magpies/magpies.py:148: RuntimeWarning: divide by zero encountered in log\n",
      "  x = (1.0 - u)*y*(1.0 + u*u*y*y/112.0 - e/100.0*u*y*(np.log(1-y/2.0) + y/2))\n",
      "../src/magpies/magpies.py:150: RuntimeWarning: invalid value encountered in arccos\n",
      "  return np.arccos(res)\n",
      "../src/magpies/magpies.py:624: RuntimeWarning: overflow encountered in exp\n",
      "  sp_red = sp_red +  Df * 15.0 * sigma_SB / ( pow(pi, 5) * pow(kB, 4)) * np.sin(theta[j]) * np.cos(al) * np.power(eph, 2) / (np.exp(eph / kB / Ts_inf[i,j]) - 1.0) * dtheta * dphi\n"
     ]
    }
   ],
   "source": [
    "## Here we produce and store the soft X-ray spectra for two orientations: pole on and equatorial \n",
    "sp_red_n, map_of_visible = get_redshifted_spectra_pole_photons (theta, phi, Ts, Rns, Mns, eph, nphot)\n",
    "sp_red_n_eq, map_of_visible = get_redshifted_spectra_equator_photons (theta, phi, Ts, Rns, Mns, eph, nphot)"
   ]
  },
  {
   "cell_type": "code",
   "execution_count": 122,
   "id": "10461f19",
   "metadata": {},
   "outputs": [],
   "source": [
    "Teff = compute_Teff (theta, phi, Rns, Ts)\n",
    "bb1 = single_BB_photons (1.07*Teff, Rns, Mns, eph, nphot)\n",
    "bb2 = two_BB_photons ([0.4613, 0.2819, 1.0225, 1.1914], Teff, Rns, Mns, eph, nphot)"
   ]
  },
  {
   "cell_type": "code",
   "execution_count": 123,
   "id": "aa62a527",
   "metadata": {},
   "outputs": [
    {
     "data": {
      "text/plain": [
       "<matplotlib.legend.Legend at 0x7ff00fa28df0>"
      ]
     },
     "execution_count": 123,
     "metadata": {},
     "output_type": "execute_result"
    },
    {
     "data": {
      "image/png": "[encoded data removed]",
      "text/plain": [
       "<Figure size 432x288 with 1 Axes>"
      ]
     },
     "metadata": {
      "needs_background": "light"
     },
     "output_type": "display_data"
    }
   ],
   "source": [
    "plt.plot (np.log10(eph), sp_red_n, 'k:', label='Spectra, polar')\n",
    "plt.plot (np.log10(eph), sp_red_n_eq, 'k-.', label='Spectra, equator')\n",
    "plt.plot (np.log10(eph), bb1, 'r:', label='Single BB')\n",
    "plt.plot (np.log10(eph), bb2, 'b--', label='Two BB')\n",
    "plt.xlabel(r'$E$ (keV)')\n",
    "plt.ylabel('Number of photons')\n",
    "plt.yscale('log')\n",
    "plt.legend()\n",
    "\n",
    "\n"
   ]
  },
  {
   "cell_type": "code",
   "execution_count": 124,
   "id": "36be721e",
   "metadata": {},
   "outputs": [
    {
     "name": "stdout",
     "output_type": "stream",
     "text": [
      "[0.5, 0.5, 1.2036108398437497, 1.2036108398437497, 2.091509545882659, 1.000010718113612]\n"
     ]
    }
   ],
   "source": [
    "res = fit_spectral_model_chi2 (Teff, Rns, Mns, sp_red_n, eph, nphot)\n",
    "print (res)\n",
    "\n",
    "bb2_opt = two_BB_photons (res[0:4], Teff, Rns, Mns, eph, nphot)\n",
    "#bb2_opt = two_BB_photons ([1, 0.001, 1, 0.1], Teff, Rns, Mns, eph, nphot)\n"
   ]
  },
  {
   "cell_type": "code",
   "execution_count": 125,
   "id": "74eb7722",
   "metadata": {},
   "outputs": [
    {
     "data": {
      "image/png": "[encoded data removed]",
      "text/plain": [
       "<Figure size 432x288 with 1 Axes>"
      ]
     },
     "metadata": {
      "needs_background": "light"
     },
     "output_type": "display_data"
    }
   ],
   "source": [
    "plt.plot (np.log10(eph), sp_red_n, 'r-', label='Spectra, polar')\n",
    "\n",
    "plt.plot (np.log10(eph), bb2_opt, 'b--', label='Two BB')\n",
    "plt.xlabel(r'$E$ (keV)')\n",
    "plt.ylabel('Number of photons')\n",
    "plt.yscale('log')"
   ]
  },
  {
   "cell_type": "code",
   "execution_count": 126,
   "id": "b4937512",
   "metadata": {},
   "outputs": [
    {
     "name": "stdout",
     "output_type": "stream",
     "text": [
      "3.0579874452254825\n"
     ]
    }
   ],
   "source": [
    "print (chi2_1BB (1.2, Teff, Rns, Mns, sp_red_n, eph, nphot))"
   ]
  },
  {
   "cell_type": "code",
   "execution_count": 127,
   "id": "5d6ed0d3",
   "metadata": {
    "scrolled": true
   },
   "outputs": [
    {
     "name": "stdout",
     "output_type": "stream",
     "text": [
      "2.091220156815135\n"
     ]
    }
   ],
   "source": [
    "print (chi2_2BB (res[0:4], Teff, Rns, Mns, sp_red_n, eph, nphot))"
   ]
  },
  {
   "cell_type": "code",
   "execution_count": 128,
   "id": "ca736824",
   "metadata": {},
   "outputs": [],
   "source": [
    "res_BB1 = single_BB_photons (res[2]*Teff, Rns, Mns, eph, nphot)"
   ]
  },
  {
   "cell_type": "code",
   "execution_count": 129,
   "id": "d609a20c",
   "metadata": {},
   "outputs": [
    {
     "name": "stderr",
     "output_type": "stream",
     "text": [
      "../src/magpies/magpies.py:273: RuntimeWarning: overflow encountered in exp\n",
      "  res = 15.0*sigma_SB / ( pow(pi, 4) * pow(kB, 4)) * np.power(eph, 2) / (np.exp(eph / (kB *Teff_inf)) - 1.0) / (1.0 - xg)\n"
     ]
    }
   ],
   "source": [
    "res_BB2 = two_BB_photons ([res[0]*2, 0.001, res[2], 0.1], Teff, Rns, Mns, eph, nphot)"
   ]
  },
  {
   "cell_type": "code",
   "execution_count": 130,
   "id": "889e0393",
   "metadata": {},
   "outputs": [
    {
     "data": {
      "text/plain": [
       "(1, 1000000.0)"
      ]
     },
     "execution_count": 130,
     "metadata": {},
     "output_type": "execute_result"
    },
    {
     "data": {
      "image/png": "[encoded data removed]",
      "text/plain": [
       "<Figure size 432x288 with 1 Axes>"
      ]
     },
     "metadata": {
      "needs_background": "light"
     },
     "output_type": "display_data"
    }
   ],
   "source": [
    "plt.scatter (np.log10(eph), res_BB2, marker='*') #'r-')\n",
    "plt.scatter (np.log10(eph), sp_red_n, marker='^') #'b--')\n",
    "plt.yscale('log')\n",
    "plt.ylim([1,1e6])"
   ]
  },
  {
   "cell_type": "code",
   "execution_count": 131,
   "id": "1367ab15",
   "metadata": {},
   "outputs": [
    {
     "name": "stdout",
     "output_type": "stream",
     "text": [
      "0 0 0\n"
     ]
    }
   ],
   "source": [
    "print (np.min(res_BB1), np.min(res_BB2), np.min(sp_red_n))"
   ]
  },
  {
   "cell_type": "code",
   "execution_count": 132,
   "id": "c4a3c662",
   "metadata": {},
   "outputs": [
    {
     "name": "stdout",
     "output_type": "stream",
     "text": [
      "[93286  6343   352    17     0     0     0     0     0     0     0     0\n",
      "     0     0     0     0     0     0     0     0]\n"
     ]
    }
   ],
   "source": [
    "print (res_BB1[0:20])"
   ]
  },
  {
   "cell_type": "code",
   "execution_count": 133,
   "id": "00000b94",
   "metadata": {},
   "outputs": [
    {
     "name": "stdout",
     "output_type": "stream",
     "text": [
      "[93294  6336   351    16     0     0     0     0     0     0     0     0\n",
      "     0     0     0     0     0     0     0     0]\n"
     ]
    }
   ],
   "source": [
    "print (res_BB2[0:20])"
   ]
  },
  {
   "cell_type": "code",
   "execution_count": 134,
   "id": "d7dfff71",
   "metadata": {},
   "outputs": [
    {
     "name": "stdout",
     "output_type": "stream",
     "text": [
      "[93300  6309   368    19     1     0     0     0     0     0     0     0\n",
      "     0     0     0     0     0     0     0     0]\n"
     ]
    }
   ],
   "source": [
    "print (sp_red_n[0:20])"
   ]
  },
  {
   "cell_type": "code",
   "execution_count": 135,
   "id": "e2c6350f",
   "metadata": {},
   "outputs": [
    {
     "name": "stdout",
     "output_type": "stream",
     "text": [
      "99998 99997 99997\n"
     ]
    }
   ],
   "source": [
    "print (np.sum(res_BB1), np.sum(res_BB2), np.sum(sp_red_n))"
   ]
  },
  {
   "cell_type": "code",
   "execution_count": 136,
   "id": "84318ad6",
   "metadata": {},
   "outputs": [
    {
     "name": "stdout",
     "output_type": "stream",
     "text": [
      "1.0907456067834533\n"
     ]
    }
   ],
   "source": [
    "print (Cstat_1BB (res[2], Teff, Rns, Mns, sp_red_n, eph, nphot))"
   ]
  },
  {
   "cell_type": "code",
   "execution_count": 137,
   "id": "26702e51",
   "metadata": {},
   "outputs": [
    {
     "name": "stdout",
     "output_type": "stream",
     "text": [
      "inf\n"
     ]
    }
   ],
   "source": [
    "print (Cstat_2BB (res[0:4], Teff, Rns, Mns, sp_red_n, eph, nphot))"
   ]
  },
  {
   "cell_type": "code",
   "execution_count": 138,
   "id": "37c6d363",
   "metadata": {},
   "outputs": [
    {
     "name": "stdout",
     "output_type": "stream",
     "text": [
      "[0.5, 0.5, 1.2037695312499996, 1.2037695312499996, 1.0892317341525501, 0.19005908215924028]\n"
     ]
    }
   ],
   "source": [
    "print (fit_spectral_model_Cstat (Teff, Rns, Mns, sp_red_n, eph, nphot))"
   ]
  }
 ],
 "metadata": {
  "kernelspec": {
   "display_name": "Python 3",
   "language": "python",
   "name": "python3"
  },
  "language_info": {
   "codemirror_mode": {
    "name": "ipython",
    "version": 3
   },
   "file_extension": ".py",
   "mimetype": "text/x-python",
   "name": "python",
   "nbconvert_exporter": "python",
   "pygments_lexer": "ipython3",
   "version": "3.8.8"
  }
 },
 "nbformat": 4,
 "nbformat_minor": 5
}
