{
 "cells": [
  {
   "cell_type": "code",
   "execution_count": 1,
   "metadata": {},
   "outputs": [],
   "source": [
    "import sys\n",
    "sys.path.insert(1, '../src/magpies/')\n",
    "from magpies import *\n",
    "from atmos import *\n",
    "import numpy as np\n",
    "from math import *\n",
    "from scipy.optimize import minimize\n",
    "import matplotlib as mpl\n",
    "import matplotlib.pyplot as plt"
   ]
  },
  {
   "cell_type": "code",
   "execution_count": 2,
   "metadata": {},
   "outputs": [
    {
     "name": "stdout",
     "output_type": "stream",
     "text": [
      "g14 =  1.6054273795798544\n"
     ]
    }
   ],
   "source": [
    "## Radius and mass of neutron star\n",
    "Rns = 12  ## km\n",
    "Mns = 1.4 ## M_solar\n",
    "Tb = pow(10, 8.3648)  ## K\n",
    "Bp = 1e14 ## G\n",
    "\n",
    "## Instrument and exposure\n",
    "eph = np.linspace (0.20, 3.00, 32) ## Nicer soft X-ray range\n",
    "nphot = 1e5\n",
    "\n",
    "g14c = g14 (Rns, Mns) ## computing the free fall acceleration\n",
    " \n",
    "print ('g14 = ', g14c)"
   ]
  },
  {
   "cell_type": "code",
   "execution_count": 3,
   "metadata": {},
   "outputs": [
    {
     "name": "stdout",
     "output_type": "stream",
     "text": [
      "Surface temperatures for magnetised envelope of NS\n",
      "Following fit from Potekhin, Yakovlev, Chabrier & Gnedin (2003) for iron envelope\n",
      "The Astrophysical Journal, Volume 594, Issue 1, pp. 404-418  2003ApJ...594..404P\n",
      "Same fits are provided in Beznogov, Potekhin & Yakovlev (2021) for iron envelope\n",
      "Physics Reports, Volume 919, p. 1-68 2021PhR...919....1B\n"
     ]
    }
   ],
   "source": [
    "## Initialising the atmosphere\n",
    "atm_iron_2003 = NS_atmosphere ('Potekhin_2003_iron', g14c, Tb, Bp)\n",
    "atm_iron_2003.describe ()"
   ]
  },
  {
   "cell_type": "code",
   "execution_count": 4,
   "metadata": {},
   "outputs": [
    {
     "data": {
      "text/plain": [
       "<matplotlib.image.AxesImage at 0x7fead082f690>"
      ]
     },
     "execution_count": 4,
     "metadata": {},
     "output_type": "execute_result"
    },
    {
     "data": {
      "image/png": "[encoded data removed]",
      "text/plain": [
       "<Figure size 432x288 with 1 Axes>"
      ]
     },
     "metadata": {
      "needs_background": "light"
     },
     "output_type": "display_data"
    }
   ],
   "source": [
    "theta = np.linspace (0, pi, 100)  ## theta coordinates\n",
    "phi   = np.linspace (0, 2*pi, 99) ## phi coordinates\n",
    "\n",
    "theta1, phi1 = np.meshgrid (theta, phi)\n",
    "\n",
    "Ts = atm_iron_2003.Ts (theta1) ## Surface temperatures\n",
    "\n",
    "#for i in range (0, Ts.shape[0]):\n",
    "#    for j in range (0, Ts.shape[1]):\n",
    "#        Ts[i,j] = 1e6\n",
    "\n",
    "plt.imshow(Ts.T)"
   ]
  },
  {
   "cell_type": "code",
   "execution_count": 5,
   "metadata": {},
   "outputs": [
    {
     "name": "stdout",
     "output_type": "stream",
     "text": [
      "4.6346150621714404e+33 6.163714563428665\n"
     ]
    }
   ],
   "source": [
    "L = compute_L(theta, phi, Rns, Ts)\n",
    "Teff = compute_Teff(theta, phi, Rns, Ts)\n",
    "print (L, log10(Teff))"
   ]
  },
  {
   "cell_type": "code",
   "execution_count": 6,
   "metadata": {},
   "outputs": [
    {
     "name": "stdout",
     "output_type": "stream",
     "text": [
      "4.6815141560776963e+33 6.164807731485772\n"
     ]
    }
   ],
   "source": [
    "Ts_uniform = np.full((Ts.shape[0], Ts.shape[1]), Teff)\n",
    "Teff1 = compute_Teff(theta, phi, Rns, Ts_uniform)\n",
    "L1 = compute_L(theta, phi, Rns, Ts_uniform)\n",
    "print (L1, log10(Teff1))"
   ]
  },
  {
   "cell_type": "code",
   "execution_count": 7,
   "metadata": {},
   "outputs": [
    {
     "name": "stderr",
     "output_type": "stream",
     "text": [
      "../src/magpies/magpies.py:186: RuntimeWarning: divide by zero encountered in log\n",
      "  x = (1.0 - u)*y*(1.0 + u*u*y*y/112.0 - e/100.0*u*y*(np.log(1-y/2.0) + y/2))\n",
      "../src/magpies/magpies.py:188: RuntimeWarning: invalid value encountered in arccos\n",
      "  return np.arccos(res)\n"
     ]
    }
   ],
   "source": [
    "sp, vis = get_redshifted_spectra_pole_photons(theta, phi, Ts, Rns, Mns, eph, nphot)"
   ]
  },
  {
   "cell_type": "code",
   "execution_count": 8,
   "metadata": {},
   "outputs": [
    {
     "name": "stdout",
     "output_type": "stream",
     "text": [
      "[0.30069092702157296, 0.26102251499596485, 0.9862993363311362, 1.2867019293358486, 112.63086447463569, 7.03656576315319]\n"
     ]
    }
   ],
   "source": [
    "res = fit_spectral_model_Cstat (Teff, Rns, Mns, sp, eph, nphot, L)\n",
    "print (res)"
   ]
  },
  {
   "cell_type": "code",
   "execution_count": 9,
   "metadata": {},
   "outputs": [
    {
     "name": "stdout",
     "output_type": "stream",
     "text": [
      "4.6346150621714404e+33\n",
      "5.098076568388584e+32\n",
      "4.6346851298733527e+33\n"
     ]
    }
   ],
   "source": [
    "print (L)\n",
    "print (compute_L_param ([0.1,0.01, 1, 1], Teff, Rns, Mns))\n",
    "print (compute_L_param (res[0:4], Teff, Rns, Mns))"
   ]
  },
  {
   "cell_type": "code",
   "execution_count": 10,
   "metadata": {},
   "outputs": [
    {
     "name": "stdout",
     "output_type": "stream",
     "text": [
      "[0.30069092702157296, 0.26102251499596485, 0.9862993363311362, 1.2867019293358486]\n"
     ]
    }
   ],
   "source": [
    "print (res[0:4])"
   ]
  },
  {
   "cell_type": "code",
   "execution_count": 11,
   "metadata": {},
   "outputs": [
    {
     "name": "stdout",
     "output_type": "stream",
     "text": [
      "112.7420099565916\n"
     ]
    }
   ],
   "source": [
    "print (Cstat_1BB ([0.615, 1.1289], Teff, Rns, Mns, sp, eph, nphot, L))"
   ]
  },
  {
   "cell_type": "code",
   "execution_count": 12,
   "metadata": {},
   "outputs": [
    {
     "name": "stdout",
     "output_type": "stream",
     "text": [
      " final_simplex: (array([[0.6155844 , 1.12892475],\n",
      "       [0.61563126, 1.128916  ],\n",
      "       [0.61568432, 1.12888293]]), array([112.63086447, 112.63088456, 112.63093806]))\n",
      "           fun: 112.63086447463569\n",
      "       message: 'Optimization terminated successfully.'\n",
      "          nfev: 71\n",
      "           nit: 36\n",
      "        status: 0\n",
      "       success: True\n",
      "             x: array([0.6155844 , 1.12892475])\n"
     ]
    }
   ],
   "source": [
    "x1 = [0.7, 1.3]\n",
    "res_1BB = minimize (Cstat_1BB, x1, method = 'Nelder-Mead',args=(Teff, Rns, Mns, sp, eph, nphot, L))\n",
    "print (res_1BB)"
   ]
  },
  {
   "cell_type": "code",
   "execution_count": 13,
   "metadata": {},
   "outputs": [
    {
     "name": "stdout",
     "output_type": "stream",
     "text": [
      " final_simplex: (array([[0.30069093, 0.26102251, 0.98629934, 1.28670193],\n",
      "       [0.30069014, 0.26100806, 0.986275  , 1.28673449],\n",
      "       [0.30068976, 0.26102896, 0.98623727, 1.28671842],\n",
      "       [0.30068725, 0.26109745, 0.98624131, 1.2866414 ],\n",
      "       [0.30068939, 0.26100991, 0.98623072, 1.28675667]]), array([7.03656576, 7.03656741, 7.03657198, 7.03662054, 7.03663964]))\n",
      "           fun: 7.03656576315319\n",
      "       message: 'Optimization terminated successfully.'\n",
      "          nfev: 228\n",
      "           nit: 128\n",
      "        status: 0\n",
      "       success: True\n",
      "             x: array([0.30069093, 0.26102251, 0.98629934, 1.28670193])\n"
     ]
    }
   ],
   "source": [
    "x2 = [0.2, 0.8, 1.6, 1.3]\n",
    "res_2BB = minimize (Cstat_2BB, x2, method = 'Nelder-Mead',args=(Teff, Rns, Mns, sp, eph, nphot, L))\n",
    "print (res_2BB)"
   ]
  },
  {
   "cell_type": "code",
   "execution_count": 14,
   "metadata": {},
   "outputs": [
    {
     "name": "stdout",
     "output_type": "stream",
     "text": [
      "4.6340557242979083e+33\n",
      "4.6346851298733527e+33\n"
     ]
    },
    {
     "data": {
      "text/plain": [
       "<matplotlib.legend.Legend at 0x7fead01ce490>"
      ]
     },
     "execution_count": 14,
     "metadata": {},
     "output_type": "execute_result"
    },
    {
     "data": {
      "image/png": "[encoded data removed]",
      "text/plain": [
       "<Figure size 432x288 with 1 Axes>"
      ]
     },
     "metadata": {
      "needs_background": "light"
     },
     "output_type": "display_data"
    }
   ],
   "source": [
    "sp_BB1 = examine_spectral_fit_1BB_photons ([0.6155844 , 1.12892475], Teff, Rns, Mns, eph, nphot, L)\n",
    "sp_BB2 = examine_spectral_fit_2BB_photons (res_2BB.x, Teff, Rns, Mns, eph, nphot, L)\n",
    "\n",
    "print (compute_L_param ([0.6155844 , 1.12892475], Teff, Rns, Mns))\n",
    "print (compute_L_param (res_2BB.x, Teff, Rns, Mns))\n",
    "\n",
    "plt.scatter (eph, sp, label='Spectra', marker='1', color='black', s=128)\n",
    "plt.scatter (eph, sp_BB1, label='BB1', marker='>')\n",
    "plt.scatter (eph, sp_BB2, label='BB2', marker='^')\n",
    "plt.yscale('log')\n",
    "plt.ylim([1,1e5])\n",
    "plt.ylabel('Number of photons')\n",
    "plt.xlabel('E (keV)')\n",
    "plt.legend()"
   ]
  },
  {
   "cell_type": "code",
   "execution_count": null,
   "metadata": {},
   "outputs": [],
   "source": []
  }
 ],
 "metadata": {
  "kernelspec": {
   "display_name": "Python 3",
   "language": "python",
   "name": "python3"
  },
  "language_info": {
   "codemirror_mode": {
    "name": "ipython",
    "version": 3
   },
   "file_extension": ".py",
   "mimetype": "text/x-python",
   "name": "python",
   "nbconvert_exporter": "python",
   "pygments_lexer": "ipython3",
   "version": "3.7.6"
  }
 },
 "nbformat": 4,
 "nbformat_minor": 5
}
