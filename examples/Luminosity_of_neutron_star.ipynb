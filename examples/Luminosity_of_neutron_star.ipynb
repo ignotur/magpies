{
 "cells": [
  {
   "cell_type": "code",
   "execution_count": 1,
   "id": "bdcd2e68",
   "metadata": {},
   "outputs": [
    {
     "name": "stderr",
     "output_type": "stream",
     "text": [
      "/opt/anaconda3/lib/python3.8/site-packages/scipy/__init__.py:138: UserWarning: A NumPy version >=1.16.5 and <1.23.0 is required for this version of SciPy (detected version 1.16.1)\n",
      "  warnings.warn(f\"A NumPy version >={np_minversion} and <{np_maxversion} is required for this version of \"\n"
     ]
    }
   ],
   "source": [
    "import sys\n",
    "sys.path.insert(1, '../src/magpies/')\n",
    "from magpies import *\n",
    "from atmos import *\n",
    "import numpy as np\n",
    "from math import *\n",
    "from scipy.optimize import minimize\n",
    "import matplotlib as mpl\n",
    "import matplotlib.pyplot as plt"
   ]
  },
  {
   "cell_type": "code",
   "execution_count": 2,
   "id": "437dfa76",
   "metadata": {},
   "outputs": [
    {
     "name": "stdout",
     "output_type": "stream",
     "text": [
      "g14 =  1.6054273795798544\n"
     ]
    }
   ],
   "source": [
    "## Radius and mass of neutron star\n",
    "Rns = 12  ## km\n",
    "Mns = 1.4 ## M_solar\n",
    "Tb = pow(10, 8.3648)  ## K\n",
    "Bp = 1e14 ## G\n",
    "\n",
    "## Instrument and exposure\n",
    "eph = np.linspace (0.20, 3.00, 32) ## Nicer soft X-ray range\n",
    "nphot = 1e5\n",
    "\n",
    "g14c = g14 (Rns, Mns) ## computing the free fall acceleration\n",
    " \n",
    "print ('g14 = ', g14c)"
   ]
  },
  {
   "cell_type": "code",
   "execution_count": 3,
   "id": "5db62faa",
   "metadata": {},
   "outputs": [
    {
     "name": "stdout",
     "output_type": "stream",
     "text": [
      "Surface temperatures for magnetised envelope of NS\n",
      "Following fit from Potekhin, Yakovlev, Chabrier & Gnedin (2003) for iron envelope\n",
      "The Astrophysical Journal, Volume 594, Issue 1, pp. 404-418  2003ApJ...594..404P\n",
      "Same fits are provided in Beznogov, Potekhin & Yakovlev (2021) for iron envelope\n",
      "Physics Reports, Volume 919, p. 1-68 2021PhR...919....1B\n"
     ]
    }
   ],
   "source": [
    "## Initialising the atmosphere\n",
    "atm_iron_2003 = NS_atmosphere ('Potekhin_2003_iron', g14c, Tb, Bp)\n",
    "atm_iron_2003.describe ()"
   ]
  },
  {
   "cell_type": "code",
   "execution_count": 4,
   "id": "804d223b",
   "metadata": {},
   "outputs": [
    {
     "data": {
      "text/plain": [
       "<matplotlib.image.AxesImage at 0x7f993cedf910>"
      ]
     },
     "execution_count": 4,
     "metadata": {},
     "output_type": "execute_result"
    },
    {
     "data": {
      "image/png": "[encoded data removed]",
      "text/plain": [
       "<Figure size 432x288 with 1 Axes>"
      ]
     },
     "metadata": {
      "needs_background": "light"
     },
     "output_type": "display_data"
    }
   ],
   "source": [
    "theta = np.linspace (0, pi, 100)  ## theta coordinates\n",
    "phi   = np.linspace (0, 2*pi, 99) ## phi coordinates\n",
    "\n",
    "theta1, phi1 = np.meshgrid (theta, phi)\n",
    "\n",
    "Ts = atm_iron_2003.Ts (theta1) ## Surface temperatures\n",
    "\n",
    "#for i in range (0, Ts.shape[0]):\n",
    "#    for j in range (0, Ts.shape[1]):\n",
    "#        Ts[i,j] = 1e6\n",
    "\n",
    "plt.imshow(Ts.T)"
   ]
  },
  {
   "cell_type": "code",
   "execution_count": 5,
   "id": "7a66c6fc",
   "metadata": {},
   "outputs": [
    {
     "name": "stdout",
     "output_type": "stream",
     "text": [
      "4.6346150621714404e+33 6.163714563428665\n"
     ]
    }
   ],
   "source": [
    "L = compute_L(theta, phi, Rns, Ts)\n",
    "Teff = compute_Teff(theta, phi, Rns, Ts)\n",
    "print (L, log10(Teff))"
   ]
  },
  {
   "cell_type": "code",
   "execution_count": 6,
   "id": "735286d6",
   "metadata": {},
   "outputs": [
    {
     "name": "stdout",
     "output_type": "stream",
     "text": [
      "4.6815141560776963e+33 6.164807731485772\n"
     ]
    }
   ],
   "source": [
    "Ts_uniform = np.full((Ts.shape[0], Ts.shape[1]), Teff)\n",
    "Teff1 = compute_Teff(theta, phi, Rns, Ts_uniform)\n",
    "L1 = compute_L(theta, phi, Rns, Ts_uniform)\n",
    "print (L1, log10(Teff1))"
   ]
  },
  {
   "cell_type": "code",
   "execution_count": 7,
   "id": "b1411a5f",
   "metadata": {},
   "outputs": [
    {
     "name": "stderr",
     "output_type": "stream",
     "text": [
      "../src/magpies/magpies.py:186: RuntimeWarning: divide by zero encountered in log\n",
      "  x = (1.0 - u)*y*(1.0 + u*u*y*y/112.0 - e/100.0*u*y*(np.log(1-y/2.0) + y/2))\n",
      "../src/magpies/magpies.py:188: RuntimeWarning: invalid value encountered in arccos\n",
      "  return np.arccos(res)\n"
     ]
    }
   ],
   "source": [
    "sp, vis = get_redshifted_spectra_pole_photons(theta, phi, Ts, Rns, Mns, eph, nphot)"
   ]
  },
  {
   "cell_type": "code",
   "execution_count": 8,
   "id": "a6441cc5",
   "metadata": {},
   "outputs": [
    {
     "name": "stdout",
     "output_type": "stream",
     "text": [
      "0.2 643497.0936129757\n",
      "0.30000000000000004 565004.9922236957\n",
      "0.4 510066.90673890786\n",
      "0.5 468035.10563416925\n",
      "0.6000000000000001 434166.80534960225\n",
      "0.7 405932.0606990813\n",
      "0.8 381820.7198647888\n",
      "0.9000000000000001 360858.703960271\n",
      "1.0 342380.91876002465\n",
      "1.1 325912.97962308984\n"
     ]
    }
   ],
   "source": [
    "for i in range (0, 10):\n",
    "    Cstat_1BB_val = Cstat_1BB ([i*.1+0.2, 0.6], Teff, Rns, Mns, sp, eph, nphot, L)\n",
    "    print (i*.1+0.2, Cstat_1BB_val)"
   ]
  },
  {
   "cell_type": "code",
   "execution_count": 9,
   "id": "2cd70434",
   "metadata": {},
   "outputs": [
    {
     "name": "stdout",
     "output_type": "stream",
     "text": [
      "87.11942140519581\n"
     ]
    }
   ],
   "source": [
    "Cstat_2BB_val = Cstat_2BB ([0.2, 0.3, 0.9, 1.3], Teff, Rns, Mns, sp, eph, nphot, L)\n",
    "print (Cstat_2BB_val)"
   ]
  },
  {
   "cell_type": "code",
   "execution_count": 10,
   "id": "e7526574",
   "metadata": {},
   "outputs": [
    {
     "name": "stdout",
     "output_type": "stream",
     "text": [
      "[0.31225307738003505, 0.2465571501910059, 1.2643898142363583, 0.9516903862298771, 112.63086447464424, 3.579813788334209]\n"
     ]
    }
   ],
   "source": [
    "res = fit_spectral_model_Cstat (Teff, Rns, Mns, sp, eph, nphot, L)\n",
    "print (res)"
   ]
  },
  {
   "cell_type": "code",
   "execution_count": 11,
   "id": "7ececffc",
   "metadata": {},
   "outputs": [
    {
     "name": "stdout",
     "output_type": "stream",
     "text": [
      "4.6346150621714404e+33\n",
      "5.098076568388584e+32\n",
      "4.636035851061885e+33\n"
     ]
    }
   ],
   "source": [
    "print (L)\n",
    "print (compute_L_param ([0.1,0.01, 1, 1], Teff, Rns, Mns))\n",
    "print (compute_L_param (res[0:4], Teff, Rns, Mns))"
   ]
  },
  {
   "cell_type": "code",
   "execution_count": 12,
   "id": "6f671dce",
   "metadata": {},
   "outputs": [
    {
     "name": "stdout",
     "output_type": "stream",
     "text": [
      "[0.31225307738003505, 0.2465571501910059, 1.2643898142363583, 0.9516903862298771]\n"
     ]
    }
   ],
   "source": [
    "print (res[0:4])"
   ]
  },
  {
   "cell_type": "code",
   "execution_count": 13,
   "id": "97ea3f25",
   "metadata": {},
   "outputs": [
    {
     "name": "stdout",
     "output_type": "stream",
     "text": [
      "112.74200995654488\n"
     ]
    }
   ],
   "source": [
    "print (Cstat_1BB ([0.615, 1.1289], Teff, Rns, Mns, sp, eph, nphot, L))"
   ]
  },
  {
   "cell_type": "code",
   "execution_count": 14,
   "id": "5a987950",
   "metadata": {},
   "outputs": [
    {
     "name": "stdout",
     "output_type": "stream",
     "text": [
      " final_simplex: (array([[0.6155844 , 1.12892475],\n",
      "       [0.61563126, 1.128916  ],\n",
      "       [0.61568432, 1.12888293]]), array([112.63086447, 112.63088456, 112.63093806]))\n",
      "           fun: 112.63086447464424\n",
      "       message: 'Optimization terminated successfully.'\n",
      "          nfev: 71\n",
      "           nit: 36\n",
      "        status: 0\n",
      "       success: True\n",
      "             x: array([0.6155844 , 1.12892475])\n"
     ]
    }
   ],
   "source": [
    "x1 = [0.7, 1.3]\n",
    "res_1BB = minimize (Cstat_1BB, x1, method = 'Nelder-Mead',args=(Teff, Rns, Mns, sp, eph, nphot, L))\n",
    "print (res_1BB)"
   ]
  },
  {
   "cell_type": "code",
   "execution_count": 15,
   "id": "7bdd85cd",
   "metadata": {},
   "outputs": [
    {
     "name": "stdout",
     "output_type": "stream",
     "text": [
      " final_simplex: (array([[0.31225308, 0.24655715, 1.26438981, 0.95169039],\n",
      "       [0.3122523 , 0.2465618 , 1.26438972, 0.95168912],\n",
      "       [0.31225131, 0.24656629, 1.26438982, 0.95168812],\n",
      "       [0.31225369, 0.24655713, 1.26438974, 0.95168974],\n",
      "       [0.31225278, 0.24656029, 1.26438987, 0.95168933]]), array([3.57981379, 3.57983373, 3.57985976, 3.57988242, 3.57988645]))\n",
      "           fun: 3.579813788334209\n",
      "       message: 'Optimization terminated successfully.'\n",
      "          nfev: 276\n",
      "           nit: 149\n",
      "        status: 0\n",
      "       success: True\n",
      "             x: array([0.31225308, 0.24655715, 1.26438981, 0.95169039])\n"
     ]
    }
   ],
   "source": [
    "x2 = [0.2, 0.8, 1.6, 1.3]\n",
    "res_2BB = minimize (Cstat_2BB, x2, method = 'Nelder-Mead',args=(Teff, Rns, Mns, sp, eph, nphot, L))\n",
    "print (res_2BB)"
   ]
  },
  {
   "cell_type": "code",
   "execution_count": 16,
   "id": "bce28cbf",
   "metadata": {},
   "outputs": [
    {
     "name": "stdout",
     "output_type": "stream",
     "text": [
      "4.6340557242979083e+33\n",
      "4.636035851061885e+33\n"
     ]
    },
    {
     "data": {
      "text/plain": [
       "<matplotlib.legend.Legend at 0x7f993d070580>"
      ]
     },
     "execution_count": 16,
     "metadata": {},
     "output_type": "execute_result"
    },
    {
     "data": {
      "image/png": "[encoded data removed]",
      "text/plain": [
       "<Figure size 432x288 with 1 Axes>"
      ]
     },
     "metadata": {
      "needs_background": "light"
     },
     "output_type": "display_data"
    }
   ],
   "source": [
    "sp_BB1 = examine_spectral_fit_1BB_photons ([0.6155844 , 1.12892475], Teff, Rns, Mns, eph, nphot, L)\n",
    "sp_BB2 = examine_spectral_fit_2BB_photons (res_2BB.x, Teff, Rns, Mns, eph, nphot, L)\n",
    "\n",
    "print (compute_L_param ([0.6155844 , 1.12892475], Teff, Rns, Mns))\n",
    "print (compute_L_param (res_2BB.x, Teff, Rns, Mns))\n",
    "\n",
    "plt.scatter (eph, sp, label='Spectra', marker='1', color='black', s=128)\n",
    "plt.scatter (eph, sp_BB1, label='BB1', marker='>')\n",
    "plt.scatter (eph, sp_BB2, label='BB2', marker='^')\n",
    "plt.yscale('log')\n",
    "plt.ylim([1,1e5])\n",
    "plt.ylabel('Number of photons')\n",
    "plt.xlabel('E (keV)')\n",
    "plt.legend()"
   ]
  },
  {
   "cell_type": "code",
   "execution_count": null,
   "id": "fb38f1a8",
   "metadata": {},
   "outputs": [],
   "source": []
  }
 ],
 "metadata": {
  "kernelspec": {
   "display_name": "Python 3",
   "language": "python",
   "name": "python3"
  },
  "language_info": {
   "codemirror_mode": {
    "name": "ipython",
    "version": 3
   },
   "file_extension": ".py",
   "mimetype": "text/x-python",
   "name": "python",
   "nbconvert_exporter": "python",
   "pygments_lexer": "ipython3",
   "version": "3.8.8"
  }
 },
 "nbformat": 4,
 "nbformat_minor": 5
}
