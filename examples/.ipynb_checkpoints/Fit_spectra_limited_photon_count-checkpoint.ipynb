{
 "cells": [
  {
   "cell_type": "code",
   "execution_count": 1,
   "id": "cb38d9e0",
   "metadata": {},
   "outputs": [
    {
     "name": "stderr",
     "output_type": "stream",
     "text": [
      "/opt/anaconda3/lib/python3.8/site-packages/scipy/__init__.py:138: UserWarning: A NumPy version >=1.16.5 and <1.23.0 is required for this version of SciPy (detected version 1.16.1)\n",
      "  warnings.warn(f\"A NumPy version >={np_minversion} and <{np_maxversion} is required for this version of \"\n"
     ]
    }
   ],
   "source": [
    "import sys\n",
    "sys.path.insert(1, '../src/magpies/')\n",
    "from magpies import *\n",
    "from atmos import *\n",
    "import numpy as np\n",
    "from math import *\n",
    "from scipy.optimize import minimize\n",
    "import matplotlib as mpl\n",
    "import matplotlib.pyplot as plt"
   ]
  },
  {
   "cell_type": "code",
   "execution_count": 2,
   "id": "05097a2c",
   "metadata": {},
   "outputs": [
    {
     "name": "stdout",
     "output_type": "stream",
     "text": [
      "g14 =  1.6054273795798544\n"
     ]
    }
   ],
   "source": [
    "## Radius and mass of neutron star\n",
    "Rns = 12  ## km\n",
    "Mns = 1.4 ## M_solar\n",
    "Tb = pow(10, 7.1730)  ## K\n",
    "Bp = 1e14 ## G\n",
    "\n",
    "g14c = g14 (Rns, Mns) ## computing the free fall acceleration\n",
    " \n",
    "print ('g14 = ', g14c)"
   ]
  },
  {
   "cell_type": "code",
   "execution_count": 3,
   "id": "d45d2748",
   "metadata": {},
   "outputs": [
    {
     "name": "stdout",
     "output_type": "stream",
     "text": [
      "Surface temperatures for magnetised envelope of NS\n",
      "Following fit from Potekhin, Yakovlev, Chabrier & Gnedin (2003) for iron envelope\n",
      "The Astrophysical Journal, Volume 594, Issue 1, pp. 404-418  2003ApJ...594..404P\n",
      "Same fits are provided in Beznogov, Potekhin & Yakovlev (2021) for iron envelope\n",
      "Physics Reports, Volume 919, p. 1-68 2021PhR...919....1B\n"
     ]
    }
   ],
   "source": [
    "## Initialising the atmosphere\n",
    "atm_iron_2003 = NS_atmosphere ('Potekhin_2003_iron', g14c, Tb, Bp)\n",
    "atm_iron_2003.describe ()"
   ]
  },
  {
   "cell_type": "code",
   "execution_count": 4,
   "id": "754f1c25",
   "metadata": {},
   "outputs": [],
   "source": [
    "theta = np.linspace (0, pi, 100)  ## theta coordinates\n",
    "phi   = np.linspace (0, 2*pi, 99) ## phi coordinates\n",
    "\n",
    "theta1, phi1 = np.meshgrid (theta, phi)\n",
    "\n",
    "Ts = atm_iron_2003.Ts (theta1) ## Surface temperatures"
   ]
  },
  {
   "cell_type": "code",
   "execution_count": 5,
   "id": "fce154d9",
   "metadata": {},
   "outputs": [],
   "source": [
    "for i in range (0, Ts.shape[0]):\n",
    "    for j in range (0, Ts.shape[1]):\n",
    "        Ts[i,j] = 1e6"
   ]
  },
  {
   "cell_type": "code",
   "execution_count": 6,
   "id": "6b20d67d",
   "metadata": {},
   "outputs": [],
   "source": [
    "eph = np.linspace (0.25, 2.99, 275) ## Nicer soft X-ray range\n",
    "nphot = 1e6"
   ]
  },
  {
   "cell_type": "code",
   "execution_count": 7,
   "id": "0898779b",
   "metadata": {},
   "outputs": [
    {
     "name": "stderr",
     "output_type": "stream",
     "text": [
      "../src/magpies/magpies.py:148: RuntimeWarning: divide by zero encountered in log\n",
      "  x = (1.0 - u)*y*(1.0 + u*u*y*y/112.0 - e/100.0*u*y*(np.log(1-y/2.0) + y/2))\n",
      "../src/magpies/magpies.py:150: RuntimeWarning: invalid value encountered in arccos\n",
      "  return np.arccos(res)\n"
     ]
    }
   ],
   "source": [
    "## Here we produce and store the soft X-ray spectra for two orientations: pole on and equatorial \n",
    "sp_red_n, map_of_visible = get_redshifted_spectra_pole_obs (theta, phi, Ts, Rns, Mns, eph, nphot)\n",
    "sp_red_n_eq, map_of_visible = get_redshifted_spectra_equator_obs (theta, phi, Ts, Rns, Mns, eph, nphot)"
   ]
  },
  {
   "cell_type": "code",
   "execution_count": 8,
   "id": "f716ff7b",
   "metadata": {},
   "outputs": [],
   "source": [
    "Teff = compute_Teff (theta, phi, Rns, Ts)\n",
    "bb1 = single_BB_obs (Teff, Rns, Mns, eph, nphot)\n",
    "bb2 = two_BB_obs ([0.4, 0.6, 0.9, 1.2], Teff, Rns, Mns, eph, nphot)"
   ]
  },
  {
   "cell_type": "code",
   "execution_count": 9,
   "id": "a37e2685",
   "metadata": {},
   "outputs": [
    {
     "name": "stdout",
     "output_type": "stream",
     "text": [
      "1002520.2830597103 6.001093168057105\n"
     ]
    }
   ],
   "source": [
    "print (Teff, log10(Teff))"
   ]
  },
  {
   "cell_type": "code",
   "execution_count": 10,
   "id": "372e3289",
   "metadata": {},
   "outputs": [
    {
     "name": "stdout",
     "output_type": "stream",
     "text": [
      "999939\n"
     ]
    },
    {
     "data": {
      "image/png": "[encoded data removed]",
      "text/plain": [
       "<Figure size 432x288 with 1 Axes>"
      ]
     },
     "metadata": {
      "needs_background": "light"
     },
     "output_type": "display_data"
    }
   ],
   "source": [
    "plt.plot (np.log10(eph), sp_red_n, 'k:', label='Spectra, polar')\n",
    "plt.plot (np.log10(eph), sp_red_n, 'k-.', label='Spectra, equator')\n",
    "plt.plot (np.log10(eph), bb1, 'r:', label='Single BB')\n",
    "plt.plot (np.log10(eph), bb2, 'b--', label='Two BB')\n",
    "plt.xlabel(r'$E$ (keV)')\n",
    "plt.ylabel('Number of photons')\n",
    "plt.yscale('log')\n",
    "\n",
    "\n",
    "print (np.sum(sp_red_n))"
   ]
  },
  {
   "cell_type": "code",
   "execution_count": 11,
   "id": "fce7a118",
   "metadata": {},
   "outputs": [],
   "source": [
    "diff = two_BB_diff_obs ([0.4, 0.6, 0.9, 1.2], Teff, Rns, Mns, sp_red_n, eph, nphot)"
   ]
  },
  {
   "cell_type": "code",
   "execution_count": 12,
   "id": "af7c6c7f",
   "metadata": {},
   "outputs": [
    {
     "name": "stdout",
     "output_type": "stream",
     "text": [
      "34.19199352639193\n"
     ]
    }
   ],
   "source": [
    "print (diff)"
   ]
  },
  {
   "cell_type": "code",
   "execution_count": 13,
   "id": "55ff516c",
   "metadata": {},
   "outputs": [],
   "source": [
    "x0 = [0.2, 0.6, 0.9, 1.2]\n",
    "res = minimize (two_BB_diff_obs, x0, method = 'Nelder-Mead',args=(Teff, Rns, Mns, sp_red_n, eph, nphot))"
   ]
  },
  {
   "cell_type": "code",
   "execution_count": 14,
   "id": "042bec15",
   "metadata": {},
   "outputs": [
    {
     "name": "stdout",
     "output_type": "stream",
     "text": [
      " final_simplex: (array([[0.14337643, 0.85661024, 0.99746292, 0.9974837 ],\n",
      "       [0.14333263, 0.85665585, 0.99750975, 0.99747794],\n",
      "       [0.14335492, 0.85664052, 0.99745292, 0.99747667],\n",
      "       [0.14336932, 0.85661946, 0.99745844, 0.9974879 ],\n",
      "       [0.14336088, 0.85662825, 0.99742235, 0.9974887 ]]), array([1.24772431e-06, 2.10553586e-06, 2.60468056e-06, 3.17855447e-06,\n",
      "       3.46316940e-06]))\n",
      "           fun: 1.247724312832199e-06\n",
      "       message: 'Optimization terminated successfully.'\n",
      "          nfev: 194\n",
      "           nit: 112\n",
      "        status: 0\n",
      "       success: True\n",
      "             x: array([0.14337643, 0.85661024, 0.99746292, 0.9974837 ])\n",
      "1.6626497640675957\n"
     ]
    }
   ],
   "source": [
    "print (res)\n",
    "diff_par = [0,-0.03,0,0]\n",
    "bb2_opt = two_BB_obs (res.x+diff_par, Teff, Rns, Mns, eph, nphot)\n",
    "diff = two_BB_diff_obs (res.x + diff_par, Teff, Rns, Mns, sp_red_n, eph, nphot)\n",
    "print (diff)"
   ]
  },
  {
   "cell_type": "code",
   "execution_count": 15,
   "id": "d6e40b32",
   "metadata": {},
   "outputs": [
    {
     "data": {
      "image/png": "[encoded data removed]",
      "text/plain": [
       "<Figure size 432x288 with 1 Axes>"
      ]
     },
     "metadata": {
      "needs_background": "light"
     },
     "output_type": "display_data"
    }
   ],
   "source": [
    "plt.plot (np.log10(eph), sp_red_n, 'k-', label='Spectra, polar')\n",
    "\n",
    "plt.plot (np.log10(eph), bb2_opt, 'b--', label='Two BB')\n",
    "plt.xlabel(r'$E$ (keV)')\n",
    "plt.ylabel('Number of photons')\n",
    "plt.yscale('log')"
   ]
  },
  {
   "cell_type": "code",
   "execution_count": 16,
   "id": "0b5a8e98",
   "metadata": {},
   "outputs": [],
   "source": [
    "x0 = [0.2, 0.6]\n",
    "res = minimize (BB_diff_obs, x0, method = 'Nelder-Mead',args=(Teff, Rns, Mns, sp_red_n, eph, nphot))\n",
    "\n"
   ]
  },
  {
   "cell_type": "code",
   "execution_count": 17,
   "id": "1323f109",
   "metadata": {},
   "outputs": [
    {
     "name": "stdout",
     "output_type": "stream",
     "text": [
      " final_simplex: (array([[0.99746775, 0.99999724],\n",
      "       [0.99745844, 1.00007063],\n",
      "       [0.99752833, 1.00001139]]), array([6.71004408e-06, 1.59707005e-05, 1.95779864e-05]))\n",
      "           fun: 6.71004407886577e-06\n",
      "       message: 'Optimization terminated successfully.'\n",
      "          nfev: 103\n",
      "           nit: 55\n",
      "        status: 0\n",
      "       success: True\n",
      "             x: array([0.99746775, 0.99999724])\n"
     ]
    }
   ],
   "source": [
    "print (res)"
   ]
  },
  {
   "cell_type": "code",
   "execution_count": null,
   "id": "bfcc94c6",
   "metadata": {},
   "outputs": [],
   "source": []
  }
 ],
 "metadata": {
  "kernelspec": {
   "display_name": "Python 3",
   "language": "python",
   "name": "python3"
  },
  "language_info": {
   "codemirror_mode": {
    "name": "ipython",
    "version": 3
   },
   "file_extension": ".py",
   "mimetype": "text/x-python",
   "name": "python",
   "nbconvert_exporter": "python",
   "pygments_lexer": "ipython3",
   "version": "3.8.8"
  }
 },
 "nbformat": 4,
 "nbformat_minor": 5
}
