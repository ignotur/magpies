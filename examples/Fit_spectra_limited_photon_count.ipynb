{
 "cells": [
  {
   "cell_type": "code",
   "execution_count": 1,
   "id": "c254b9e4",
   "metadata": {},
   "outputs": [
    {
     "name": "stderr",
     "output_type": "stream",
     "text": [
      "/opt/anaconda3/lib/python3.8/site-packages/scipy/__init__.py:138: UserWarning: A NumPy version >=1.16.5 and <1.23.0 is required for this version of SciPy (detected version 1.16.1)\n",
      "  warnings.warn(f\"A NumPy version >={np_minversion} and <{np_maxversion} is required for this version of \"\n"
     ]
    }
   ],
   "source": [
    "import sys\n",
    "sys.path.insert(1, '../src/magpies/')\n",
    "from magpies import *\n",
    "from atmos import *\n",
    "import numpy as np\n",
    "from math import *\n",
    "from scipy.optimize import minimize\n",
    "import matplotlib as mpl\n",
    "import matplotlib.pyplot as plt"
   ]
  },
  {
   "cell_type": "code",
   "execution_count": 2,
   "id": "a45faad1",
   "metadata": {},
   "outputs": [
    {
     "name": "stdout",
     "output_type": "stream",
     "text": [
      "g14 =  1.6054273795798544\n"
     ]
    }
   ],
   "source": [
    "## Radius and mass of neutron star\n",
    "Rns = 12  ## km\n",
    "Mns = 1.4 ## M_solar\n",
    "Tb = pow(10, 7.1730)  ## K\n",
    "Bp = 1e12 ## G\n",
    "\n",
    "## Instrument and exposure\n",
    "eph = np.linspace (0.20, 3.00, 32) ## Nicer soft X-ray range\n",
    "nphot = 1e5\n",
    "\n",
    "g14c = g14 (Rns, Mns) ## computing the free fall acceleration\n",
    " \n",
    "print ('g14 = ', g14c)"
   ]
  },
  {
   "cell_type": "code",
   "execution_count": 3,
   "id": "96a44980",
   "metadata": {},
   "outputs": [
    {
     "name": "stdout",
     "output_type": "stream",
     "text": [
      "Surface temperatures for magnetised envelope of NS\n",
      "Following fit from Potekhin, Yakovlev, Chabrier & Gnedin (2003) for iron envelope\n",
      "The Astrophysical Journal, Volume 594, Issue 1, pp. 404-418  2003ApJ...594..404P\n",
      "Same fits are provided in Beznogov, Potekhin & Yakovlev (2021) for iron envelope\n",
      "Physics Reports, Volume 919, p. 1-68 2021PhR...919....1B\n"
     ]
    }
   ],
   "source": [
    "## Initialising the atmosphere\n",
    "atm_iron_2003 = NS_atmosphere ('Potekhin_2003_iron', g14c, Tb, Bp)\n",
    "atm_iron_2003.describe ()"
   ]
  },
  {
   "cell_type": "code",
   "execution_count": 4,
   "id": "d7fa1655",
   "metadata": {},
   "outputs": [
    {
     "data": {
      "text/plain": [
       "<matplotlib.image.AxesImage at 0x7fd5f0e8b910>"
      ]
     },
     "execution_count": 4,
     "metadata": {},
     "output_type": "execute_result"
    },
    {
     "data": {
      "image/png": "[encoded data removed]",
      "text/plain": [
       "<Figure size 432x288 with 1 Axes>"
      ]
     },
     "metadata": {
      "needs_background": "light"
     },
     "output_type": "display_data"
    }
   ],
   "source": [
    "theta = np.linspace (0, pi, 100)  ## theta coordinates\n",
    "phi   = np.linspace (0, 2*pi, 99) ## phi coordinates\n",
    "\n",
    "theta1, phi1 = np.meshgrid (theta, phi)\n",
    "\n",
    "Ts = atm_iron_2003.Ts (theta1) ## Surface temperatures\n",
    "\n",
    "#for i in range (0, Ts.shape[0]):\n",
    "#    for j in range (0, Ts.shape[1]):\n",
    "#        Ts[i,j] = 1e6\n",
    "\n",
    "plt.imshow(Ts.T)"
   ]
  },
  {
   "cell_type": "code",
   "execution_count": 5,
   "id": "b9a768e8",
   "metadata": {},
   "outputs": [
    {
     "name": "stderr",
     "output_type": "stream",
     "text": [
      "../src/magpies/magpies.py:186: RuntimeWarning: divide by zero encountered in log\n",
      "  x = (1.0 - u)*y*(1.0 + u*u*y*y/112.0 - e/100.0*u*y*(np.log(1-y/2.0) + y/2))\n",
      "../src/magpies/magpies.py:188: RuntimeWarning: invalid value encountered in arccos\n",
      "  return np.arccos(res)\n"
     ]
    }
   ],
   "source": [
    "## Here we produce and store the soft X-ray spectra for two orientations: pole on and equatorial \n",
    "sp_red_n, map_of_visible = get_redshifted_spectra_pole_photons (theta, phi, Ts, Rns, Mns, eph, nphot)\n",
    "sp_red_n_eq, map_of_visible = get_redshifted_spectra_equator_photons (theta, phi, Ts, Rns, Mns, eph, nphot)"
   ]
  },
  {
   "cell_type": "code",
   "execution_count": 6,
   "id": "10461f19",
   "metadata": {},
   "outputs": [],
   "source": [
    "L =  compute_L (theta, phi, Rns, Ts)\n",
    "Teff = compute_Teff (theta, phi, Rns, Ts)\n",
    "#bb1 = single_BB_photons (1.07*Teff, Rns, Mns, eph, nphot)\n",
    "bb1 = examine_spectral_fit_1BB_photons ([0.6, 1.4], Teff, Rns, Mns, eph, nphot, L)\n",
    "bb2 = examine_spectral_fit_2BB_photons ([0.4613, 0.2819, 1.0225, 1.1914], Teff, Rns, Mns, eph, nphot, L)\n",
    "#bb2 = two_BB_photons ([0.4613, 0.2819, 1.0225, 1.1914], Teff, Rns, Mns, eph, nphot)"
   ]
  },
  {
   "cell_type": "code",
   "execution_count": 7,
   "id": "aa62a527",
   "metadata": {},
   "outputs": [
    {
     "data": {
      "text/plain": [
       "<matplotlib.legend.Legend at 0x7fd5f10fed60>"
      ]
     },
     "execution_count": 7,
     "metadata": {},
     "output_type": "execute_result"
    },
    {
     "data": {
      "image/png": "[encoded data removed]",
      "text/plain": [
       "<Figure size 432x288 with 1 Axes>"
      ]
     },
     "metadata": {
      "needs_background": "light"
     },
     "output_type": "display_data"
    }
   ],
   "source": [
    "plt.plot (np.log10(eph), sp_red_n, 'k:', label='Spectra, polar')\n",
    "plt.plot (np.log10(eph), sp_red_n_eq, 'k-.', label='Spectra, equator')\n",
    "plt.plot (np.log10(eph), bb1, 'r:', label='Single BB')\n",
    "plt.plot (np.log10(eph), bb2, 'b--', label='Two BB')\n",
    "plt.xlabel(r'$E$ (keV)')\n",
    "plt.ylabel('Number of photons')\n",
    "plt.yscale('log')\n",
    "plt.ylim([1, 3e5])\n",
    "plt.legend()\n",
    "\n",
    "\n"
   ]
  },
  {
   "cell_type": "code",
   "execution_count": 17,
   "id": "74eb7722",
   "metadata": {},
   "outputs": [
    {
     "name": "stdout",
     "output_type": "stream",
     "text": [
      "[0.240951767837616, 0.240951767837616, 1.2002091691301269, 1.2002091691301269, 0.7067589591841177, 7.264183193367966]\n",
      "1BB model param:  [0.481903535675232, 1.2002091691301269]\n",
      "2BB model param:  [0.240951767837616, 0.240951767837616, 1.2002091691301269, 1.2002091691301269]\n",
      "8.524564452236636e+30\n",
      "8.524564452236636e+30\n"
     ]
    },
    {
     "name": "stderr",
     "output_type": "stream",
     "text": [
      "../src/magpies/magpies.py:311: RuntimeWarning: overflow encountered in exp\n",
      "  res = 15.0*sigma_SB / ( pow(pi, 4) * pow(kB, 4)) * np.power(eph, 2) / (np.exp(eph / (kB *Teff_inf)) - 1.0) / (1.0 - xg)\n",
      "../src/magpies/magpies.py:317: RuntimeWarning: divide by zero encountered in double_scalars\n",
      "  coeff = nphot / np.sum(res) #* Lcomp / L\n",
      "../src/magpies/magpies.py:320: RuntimeWarning: invalid value encountered in multiply\n",
      "  res_n = np.asarray(np.asarray(res) * coeff, dtype=int)\n"
     ]
    },
    {
     "data": {
      "text/plain": [
       "<matplotlib.legend.Legend at 0x7fd5f1f8bbe0>"
      ]
     },
     "execution_count": 17,
     "metadata": {},
     "output_type": "execute_result"
    },
    {
     "data": {
      "image/png": "[encoded data removed]",
      "text/plain": [
       "<Figure size 432x288 with 1 Axes>"
      ]
     },
     "metadata": {
      "needs_background": "light"
     },
     "output_type": "display_data"
    }
   ],
   "source": [
    "bb2_opt_par = fit_spectral_model_Cstat (Teff, Rns, Mns, sp_red_n, eph, nphot, L)\n",
    "print (bb2_opt_par)\n",
    "\n",
    "bb2_opt = examine_spectral_fit_2BB_photons (bb2_opt_par[0:4], Teff, Rns, Mns, eph, nphot, L)\n",
    "\n",
    "bb1_opt = examine_spectral_fit_1BB_photons ([bb2_opt_par[0]*2, bb2_opt_par[2]], Teff, Rns, Mns, eph, nphot, L)\n",
    "\n",
    "print ('1BB model param: ', [bb2_opt_par[0]*2, bb2_opt_par[2]])\n",
    "print ('2BB model param: ', bb2_opt_par[0:4])\n",
    "\n",
    "\n",
    "print (compute_L_param (bb2_opt_par[0:4], Teff, Rns, Mns))\n",
    "print (compute_L_param ([bb2_opt_par[0]*2, bb2_opt_par[2]], Teff, Rns, Mns))\n",
    "\n",
    "\n",
    "plt.plot (np.log10(eph), sp_red_n, 'r-', label='Spectra, polar')\n",
    "plt.plot (np.log10(eph), bb1_opt, 'b-', label='One BB')\n",
    "plt.plot (np.log10(eph), bb2_opt, 'b--', label='Two BB')\n",
    "plt.xlabel(r'$E$ (keV)')\n",
    "plt.ylabel('Number of photons')\n",
    "plt.yscale('log')\n",
    "plt.ylim([1, 3e5])\n",
    "plt.legend()"
   ]
  },
  {
   "cell_type": "code",
   "execution_count": 13,
   "id": "b4937512",
   "metadata": {},
   "outputs": [
    {
     "ename": "TypeError",
     "evalue": "chi2_1BB() missing 1 required positional argument: 'L'",
     "output_type": "error",
     "traceback": [
      "\u001b[0;31m---------------------------------------------------------------------------\u001b[0m",
      "\u001b[0;31mTypeError\u001b[0m                                 Traceback (most recent call last)",
      "\u001b[0;32m<ipython-input-13-4bd01ebbe1f2>\u001b[0m in \u001b[0;36m<module>\u001b[0;34m\u001b[0m\n\u001b[0;32m----> 1\u001b[0;31m \u001b[0mprint\u001b[0m \u001b[0;34m(\u001b[0m\u001b[0mchi2_1BB\u001b[0m \u001b[0;34m(\u001b[0m\u001b[0;36m1.2\u001b[0m\u001b[0;34m,\u001b[0m \u001b[0mTeff\u001b[0m\u001b[0;34m,\u001b[0m \u001b[0mRns\u001b[0m\u001b[0;34m,\u001b[0m \u001b[0mMns\u001b[0m\u001b[0;34m,\u001b[0m \u001b[0msp_red_n\u001b[0m\u001b[0;34m,\u001b[0m \u001b[0meph\u001b[0m\u001b[0;34m,\u001b[0m \u001b[0mnphot\u001b[0m\u001b[0;34m)\u001b[0m\u001b[0;34m)\u001b[0m\u001b[0;34m\u001b[0m\u001b[0;34m\u001b[0m\u001b[0m\n\u001b[0m",
      "\u001b[0;31mTypeError\u001b[0m: chi2_1BB() missing 1 required positional argument: 'L'"
     ]
    }
   ],
   "source": [
    "print (chi2_1BB (1.2, Teff, Rns, Mns, sp_red_n, eph, nphot))"
   ]
  },
  {
   "cell_type": "code",
   "execution_count": null,
   "id": "5d6ed0d3",
   "metadata": {
    "scrolled": true
   },
   "outputs": [],
   "source": [
    "print (chi2_2BB (res[0:4], Teff, Rns, Mns, sp_red_n, eph, nphot))"
   ]
  },
  {
   "cell_type": "code",
   "execution_count": null,
   "id": "ca736824",
   "metadata": {},
   "outputs": [],
   "source": [
    "res_BB1 = single_BB_photons (res[2]*Teff, Rns, Mns, eph, nphot)"
   ]
  },
  {
   "cell_type": "code",
   "execution_count": null,
   "id": "d609a20c",
   "metadata": {},
   "outputs": [],
   "source": [
    "res_BB2 = two_BB_photons ([res[0]*2, 0.001, res[2], 0.1], Teff, Rns, Mns, eph, nphot)"
   ]
  },
  {
   "cell_type": "code",
   "execution_count": null,
   "id": "889e0393",
   "metadata": {},
   "outputs": [],
   "source": [
    "plt.scatter (np.log10(eph), res_BB2, marker='*') #'r-')\n",
    "plt.scatter (np.log10(eph), sp_red_n, marker='^') #'b--')\n",
    "plt.yscale('log')\n",
    "plt.ylim([1,1e6])"
   ]
  },
  {
   "cell_type": "code",
   "execution_count": null,
   "id": "1367ab15",
   "metadata": {},
   "outputs": [],
   "source": [
    "print (np.min(res_BB1), np.min(res_BB2), np.min(sp_red_n))"
   ]
  },
  {
   "cell_type": "code",
   "execution_count": null,
   "id": "c4a3c662",
   "metadata": {},
   "outputs": [],
   "source": [
    "print (res_BB1[0:20])"
   ]
  },
  {
   "cell_type": "code",
   "execution_count": null,
   "id": "00000b94",
   "metadata": {},
   "outputs": [],
   "source": [
    "print (res_BB2[0:20])"
   ]
  },
  {
   "cell_type": "code",
   "execution_count": null,
   "id": "d7dfff71",
   "metadata": {},
   "outputs": [],
   "source": [
    "print (sp_red_n[0:20])"
   ]
  },
  {
   "cell_type": "code",
   "execution_count": null,
   "id": "e2c6350f",
   "metadata": {},
   "outputs": [],
   "source": [
    "print (np.sum(res_BB1), np.sum(res_BB2), np.sum(sp_red_n))"
   ]
  },
  {
   "cell_type": "code",
   "execution_count": null,
   "id": "84318ad6",
   "metadata": {},
   "outputs": [],
   "source": [
    "print (Cstat_1BB (res[2], Teff, Rns, Mns, sp_red_n, eph, nphot))"
   ]
  },
  {
   "cell_type": "code",
   "execution_count": null,
   "id": "26702e51",
   "metadata": {},
   "outputs": [],
   "source": [
    "print (Cstat_2BB (res[0:4], Teff, Rns, Mns, sp_red_n, eph, nphot))"
   ]
  },
  {
   "cell_type": "code",
   "execution_count": null,
   "id": "37c6d363",
   "metadata": {},
   "outputs": [],
   "source": [
    "print (fit_spectral_model_Cstat (Teff, Rns, Mns, sp_red_n, eph, nphot, L))"
   ]
  },
  {
   "cell_type": "code",
   "execution_count": null,
   "id": "0596972c",
   "metadata": {},
   "outputs": [],
   "source": []
  }
 ],
 "metadata": {
  "kernelspec": {
   "display_name": "Python 3",
   "language": "python",
   "name": "python3"
  },
  "language_info": {
   "codemirror_mode": {
    "name": "ipython",
    "version": 3
   },
   "file_extension": ".py",
   "mimetype": "text/x-python",
   "name": "python",
   "nbconvert_exporter": "python",
   "pygments_lexer": "ipython3",
   "version": "3.8.8"
  }
 },
 "nbformat": 4,
 "nbformat_minor": 5
}
