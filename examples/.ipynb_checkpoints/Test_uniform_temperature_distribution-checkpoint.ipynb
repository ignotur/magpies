{
 "cells": [
  {
   "cell_type": "code",
   "execution_count": 19,
   "metadata": {},
   "outputs": [],
   "source": [
    "import sys\n",
    "sys.path.insert(1, '../src/magpies/')\n",
    "from magpies import *\n",
    "from atmos import *\n",
    "import numpy as np\n",
    "from math import *\n",
    "from scipy.optimize import minimize\n",
    "import matplotlib as mpl\n",
    "import matplotlib.pyplot as plt"
   ]
  },
  {
   "cell_type": "code",
   "execution_count": 20,
   "metadata": {},
   "outputs": [],
   "source": [
    "## Radius and mass of neutron star\n",
    "Rns = 12  ## km\n",
    "Mns = 1.4 ## M_solar\n",
    "eph = np.linspace (0.25, 2.99, 275) ## Nicer soft X-ray range\n",
    "nphot = 1e8 "
   ]
  },
  {
   "cell_type": "code",
   "execution_count": 21,
   "metadata": {},
   "outputs": [],
   "source": [
    "theta = np.linspace (0, pi, 100)  ## theta coordinates\n",
    "phi   = np.linspace (0, 2*pi, 99) ## phi coordinates\n",
    "\n",
    "theta1, phi1 = np.meshgrid (theta, phi)\n",
    "\n",
    "Ts = np.full ((theta1.shape), 1e6) ## Surface map where every point has temperature of 10^6 K\n",
    "Teff = compute_Teff(theta, phi, Rns, Ts)"
   ]
  },
  {
   "cell_type": "code",
   "execution_count": 22,
   "metadata": {},
   "outputs": [
    {
     "name": "stdout",
     "output_type": "stream",
     "text": [
      "Here we check that Teff = 1e6 within acceptable accuracy\n",
      "Teff =  1002520.2830597103  log_{10} Teff =  6.001093168057105\n"
     ]
    }
   ],
   "source": [
    "print (\"Here we check that Teff = 1e6 within acceptable accuracy\")\n",
    "print (\"Teff = \", Teff, ' log_{10} Teff = ', log10(Teff))"
   ]
  },
  {
   "cell_type": "code",
   "execution_count": 23,
   "metadata": {},
   "outputs": [
    {
     "name": "stderr",
     "output_type": "stream",
     "text": [
      "../src/magpies/magpies.py:148: RuntimeWarning: divide by zero encountered in log\n",
      "  x = (1.0 - u)*y*(1.0 + u*u*y*y/112.0 - e/100.0*u*y*(np.log(1-y/2.0) + y/2))\n",
      "../src/magpies/magpies.py:150: RuntimeWarning: invalid value encountered in arccos\n",
      "  return np.arccos(res)\n"
     ]
    }
   ],
   "source": [
    "## Compute spectra by numerical integration over the NS surface\n",
    "sp_red_n, map_of_visible = get_redshifted_spectra_pole_photons (theta, phi, Ts, Rns, Mns, eph, nphot)"
   ]
  },
  {
   "cell_type": "code",
   "execution_count": 24,
   "metadata": {},
   "outputs": [],
   "source": [
    "## Compute spectra using single blackbody model\n",
    "sp_1BB = single_BB_photons(Teff, Rns, Mns, eph, nphot)"
   ]
  },
  {
   "cell_type": "code",
   "execution_count": 25,
   "metadata": {},
   "outputs": [],
   "source": [
    "## Compute spectra using two-blackbody model\n",
    "sp_2BB = two_BB_photons([0.3, 0.7, 1.0, 1.0], Teff, Rns, Mns, eph, nphot)"
   ]
  },
  {
   "cell_type": "code",
   "execution_count": 26,
   "metadata": {},
   "outputs": [
    {
     "data": {
      "text/plain": [
       "<matplotlib.legend.Legend at 0x7fa3bf40d390>"
      ]
     },
     "execution_count": 26,
     "metadata": {},
     "output_type": "execute_result"
    },
    {
     "data": {
      "image/png": "[encoded data removed]",
      "text/plain": [
       "<Figure size 432x288 with 1 Axes>"
      ]
     },
     "metadata": {
      "needs_background": "light"
     },
     "output_type": "display_data"
    }
   ],
   "source": [
    "plt.plot (eph, sp_red_n, 'k-', label='Numerical integration')\n",
    "plt.plot (eph, sp_1BB, 'r--', label='Analytical expression single BB')\n",
    "plt.plot (eph, sp_2BB, 'b-.', label='Analytical expression two BB')\n",
    "plt.yscale('log')\n",
    "plt.legend()"
   ]
  },
  {
   "cell_type": "code",
   "execution_count": 27,
   "metadata": {},
   "outputs": [
    {
     "name": "stdout",
     "output_type": "stream",
     "text": [
      "[0.5, 0.5, 0.9974826049804685, 0.9974826049804685, 2.099350532056338, 0.000133165520884485]\n"
     ]
    }
   ],
   "source": [
    "print (fit_spectral_model_Cstat (Teff, Rns, Mns, sp_red_n, eph, nphot))"
   ]
  },
  {
   "cell_type": "code",
   "execution_count": null,
   "metadata": {},
   "outputs": [],
   "source": []
  },
  {
   "cell_type": "code",
   "execution_count": null,
   "metadata": {},
   "outputs": [],
   "source": []
  }
 ],
 "metadata": {
  "kernelspec": {
   "display_name": "Python 3",
   "language": "python",
   "name": "python3"
  },
  "language_info": {
   "codemirror_mode": {
    "name": "ipython",
    "version": 3
   },
   "file_extension": ".py",
   "mimetype": "text/x-python",
   "name": "python",
   "nbconvert_exporter": "python",
   "pygments_lexer": "ipython3",
   "version": "3.7.6"
  }
 },
 "nbformat": 4,
 "nbformat_minor": 5
}
